{
 "cells": [
  {
   "cell_type": "markdown",
   "metadata": {},
   "source": [
    "# The data science pipeline\n"
   ]
  },
  {
   "cell_type": "markdown",
   "metadata": {},
   "source": [
    "## Introduction\n",
    "\n",
    "The data science pipeline refers to a standard series of operations done to data when fitting a statistical model.  It takes as input raw data and produces as output a statistical model from which you can infer something about the system that produced the data.  \n",
    "This pipeline consists of the following steps, some of which are optional and some of which need to be repeated.  \n",
    "\n",
    "1. Get raw data\n",
    "2. Extract features from the data\n",
    "3. Scale features \n",
    "4. Reduce dimensionality\n",
    "5. Choose hyperparameters of statistical model. \n",
    "6. Fit model (estimator) on training data. \n",
    "7. Evaluate model on validation data. \n",
    "8. Adjust hyperparameter and other modelling choices (steps 2 - 5) based on evaluation. \n",
    "9. Evaluate model on test data. \n",
    "\n",
    "All of these steps have been implemented in [scikit-learn](http://scikit-learn.org/).  This workbook will give a demonstration of how to set up a pipeline using the sk-learn library.  \n",
    "\n",
    "I recommend looking at the [tutorials](http://scikit-learn.org/stable/tutorial/index.html), reading the [user guide](http://scikit-learn.org/stable/user_guide.html) and the [API](http://scikit-learn.org/stable/modules/classes.html) for more information. \n",
    "\n",
    "A flow chart of how to choose estimators based on your data and requirements is shown below. "
   ]
  },
  {
   "cell_type": "markdown",
   "metadata": {},
   "source": [
    "## The problem\n",
    "\n",
    "The problem we will focus on is that of predicting a number from an 8x8 pixel image of a number. You can read about the data [here](http://scikit-learn.org/stable/modules/generated/sklearn.datasets.load_digits.html) \n",
    "\n",
    "We will go through each of the components of the pipeline separately first without worrying about splitting the data into test and training sets.  After that we'll put it all together using the `pipeline` feature and split the data in order to optimize the hyperparameters using grid-search cross-validation. "
   ]
  },
  {
   "cell_type": "markdown",
   "metadata": {},
   "source": [
    "### Get data and extract features\n",
    "The data, called `digits` consist of *features* and *labels*. \n",
    "\n",
    "The *features* are pixel intensities (integers 0 - 16) for each of the 64 pixels of the scanned, hand written images. Each row of the *features* matrix is a single image, each column is a pixel.  We've labelled the *features* matrix as `arrayOfWrittenDigitImages`. \n",
    "\n",
    "The *labels* are the number which each picture represents or in other words the *ground truth values*. It's a vector of numbers 1 - 10 and we've labelled it `arrayOfDigitValues`. \n",
    "\n",
    "\n",
    "\n"
   ]
  },
  {
   "cell_type": "code",
   "execution_count": 1,
   "metadata": {
    "collapsed": true
   },
   "outputs": [],
   "source": [
    "import numpy as np\n",
    "import matplotlib.pyplot as plt\n",
    "from sklearn import datasets\n",
    "%matplotlib inline\n",
    "\n",
    "# now we load the whole dataset we want to classify\n",
    "digits = datasets.load_digits()\n",
    "\n",
    "# assign the digits & their values to some arrays\n",
    "arrayOfWrittenDigitImages = digits.data\n",
    "arrayOfDigitValues = digits.target"
   ]
  },
  {
   "cell_type": "code",
   "execution_count": 2,
   "metadata": {
    "collapsed": false
   },
   "outputs": [
    {
     "name": "stdout",
     "output_type": "stream",
     "text": [
      "Size of training data: 1797 x number of features: (pixels) 64\n",
      "Number of ground truth values: 1797\n",
      "\n"
     ]
    },
    {
     "data": {
      "text/plain": [
       "<matplotlib.image.AxesImage at 0x10d211d30>"
      ]
     },
     "execution_count": 2,
     "metadata": {},
     "output_type": "execute_result"
    },
    {
     "data": {
      "image/png": "[encoded data removed]",
      "text/plain": [
       "<matplotlib.figure.Figure at 0x10d2a2fd0>"
      ]
     },
     "metadata": {},
     "output_type": "display_data"
    }
   ],
   "source": [
    "print('Size of training data: {0} x number of features: (pixels) {1}'.format(*arrayOfWrittenDigitImages.shape))\n",
    "print('Number of ground truth values: {0}'.format(*arrayOfDigitValues.shape))\n",
    "print()\n",
    "\n",
    "# let's inspect image 154: \n",
    "image_number=154\n",
    "\n",
    "# we can reshape the image however we like with the following command; here we reshape to 8 x 8 pixels\n",
    "handWrittenImage = arrayOfWrittenDigitImages[image_number].reshape(8,8)\n",
    "\n",
    "# let's now view the reshaped image\n",
    "plt.imshow(handWrittenImage, cmap='Greys')\n"
   ]
  },
  {
   "cell_type": "code",
   "execution_count": 3,
   "metadata": {
    "collapsed": false
   },
   "outputs": [
    {
     "name": "stdout",
     "output_type": "stream",
     "text": [
      "Image 154 ground truth value is: '4'\n",
      "Image 154 ground truth value is: '4'\n"
     ]
    }
   ],
   "source": [
    "# now we will print out what we think the ground truth is for this image:\n",
    "print(\"Image {0} ground truth value is: '{1}'\".format(image_number, 4 ))\n",
    "\n",
    "# now let's check out what the actual value of the image is\n",
    "print(\"Image {0} ground truth value is: '{1}'\".format(image_number, arrayOfDigitValues[image_number] ))\n",
    "\n",
    "# Q: now try writing your own code to inspect some different images in the test set.\n",
    "# code here...\n",
    "# code here..."
   ]
  },
  {
   "cell_type": "markdown",
   "metadata": {
    "collapsed": false
   },
   "source": [
    "### Scale features\n",
    "\n",
    "Many statistical models work best if all the features are scaled so that their mean and variance are approximately equal. We can do this different ways but the easiest is by subtracting the mean and dividing by the standard deviation also known as **standardisation**.\n",
    "\n",
    "The features are the pixels. So when we standardise feature number 1 we make the mean of pixel 1 **across all images** to be 0, and its standard deviation to be 1. \n"
   ]
  },
  {
   "cell_type": "code",
   "execution_count": 4,
   "metadata": {
    "collapsed": false
   },
   "outputs": [
    {
     "data": {
      "text/plain": [
       "<matplotlib.text.Text at 0x10d12a550>"
      ]
     },
     "execution_count": 4,
     "metadata": {},
     "output_type": "execute_result"
    },
    {
     "data": {
      "image/png": "[encoded data removed]",
      "text/plain": [
       "<matplotlib.figure.Figure at 0x1046a9550>"
      ]
     },
     "metadata": {},
     "output_type": "display_data"
    }
   ],
   "source": [
    "## Now we plot the avg & std deviation of the features prior to any normalization\n",
    "\n",
    "# for each of the 64 pixels in the image set, get the average & std deviation\n",
    "arrayOfPixelMeanValues = arrayOfWrittenDigitImages.mean(axis=0)\n",
    "arrayOfPixelStdDeviations = arrayOfWrittenDigitImages.std(axis=0)\n",
    "\n",
    "plt.errorbar(range(arrayOfWrittenDigitImages.shape[1]), arrayOfPixelMeanValues,yerr=arrayOfPixelStdDeviations, fmt='o')\n",
    "plt.title('Pixel mean and variance')\n",
    "plt.xlabel('Pixel index')"
   ]
  },
  {
   "cell_type": "code",
   "execution_count": 7,
   "metadata": {
    "collapsed": false
   },
   "outputs": [
    {
     "name": "stdout",
     "output_type": "stream",
     "text": [
      "imagesWithPixelsScale: rows = 1797, columns = 64\n"
     ]
    },
    {
     "data": {
      "text/plain": [
       "<matplotlib.text.Text at 0x10d2a3ba8>"
      ]
     },
     "execution_count": 7,
     "metadata": {},
     "output_type": "execute_result"
    },
    {
     "data": {
      "image/png": "[encoded data removed]",
      "text/plain": [
       "<matplotlib.figure.Figure at 0x10cfd97f0>"
      ]
     },
     "metadata": {},
     "output_type": "display_data"
    }
   ],
   "source": [
    "from sklearn import preprocessing\n",
    "\n",
    "# use the sklearn API to normalize the data in each feature, so that it has a mean = zero, and a std dev = 1\n",
    "scaler = preprocessing.StandardScaler()\n",
    "scaler.fit(arrayOfWrittenDigitImages)\n",
    "imagesWithPixelsScaled = scaler.transform(arrayOfWrittenDigitImages)\n",
    "print('imagesWithPixelsScale: rows = {0}, columns = {1}'.format(*imagesWithPixelsScaled.shape))\n",
    "\n",
    "# now we will plot the normalized data\n",
    "avgOfScaledImages = imagesWithPixelsScaled.mean(axis=0)\n",
    "stdDevOfScaledImaged = imagesWithPixelsScaled.std(axis=0)\n",
    "\n",
    "plt.errorbar(range(imagesWithPixelsScaled.shape[1]), avgOfScaledImages,stdDevOfScaledImaged, fmt='o')\n",
    "plt.title('Pixel mean and variance')\n",
    "plt.xlabel('Pixel index')"
   ]
  },
  {
   "cell_type": "code",
   "execution_count": 8,
   "metadata": {
    "collapsed": true
   },
   "outputs": [],
   "source": [
    "# Q: why do some features/pixels have no standard deviation?"
   ]
  },
  {
   "cell_type": "markdown",
   "metadata": {},
   "source": [
    "### Reduce dimension\n",
    "We can use principle component analysis (PCA) to reduce the number of features. To demonstrate the technique we choose to keep only the first 20 components. We can tune this later. See the aside below for more explanation of what PCA is."
   ]
  },
  {
   "cell_type": "markdown",
   "metadata": {},
   "source": [
    "#### Aside: principle component analysis\n",
    "\n",
    "PCA is a way of finding linear combinations of features so that instead of using all the features I use a smaller number of combinanations of features.  \n",
    "\n",
    "Let's look at a simple example to show you what that means practically. \n",
    "\n",
    "Consider a dataset with two features x1 and x2 and with two labels, 1 & 0 (or purple and yellow).  This data is plotted below: "
   ]
  },
  {
   "cell_type": "code",
   "execution_count": 46,
   "metadata": {
    "collapsed": false
   },
   "outputs": [
    {
     "data": {
      "text/plain": [
       "<matplotlib.text.Text at 0x1131ddd30>"
      ]
     },
     "execution_count": 46,
     "metadata": {},
     "output_type": "execute_result"
    },
    {
     "data": {
      "image/png": "[encoded data removed]",
      "text/plain": [
       "<matplotlib.figure.Figure at 0x113046fd0>"
      ]
     },
     "metadata": {},
     "output_type": "display_data"
    }
   ],
   "source": [
    "from sklearn.datasets import make_classification\n",
    "np.random.seed(1)\n",
    "X, y = make_classification(n_samples=100, n_features=2, n_informative=1, n_redundant=1, n_classes=2, n_clusters_per_class=1, flip_y=0.01)\n",
    "# (n_samples=100, n_features=20, n_informative=2, n_redundant=2, n_repeated=0, n_classes=2, n_clusters_per_class=2, weights=None, flip_y=0.01, class_sep=1.0, hypercube=True, shift=0.0, scale=1.0, shuffle=True, random_state=None)[source]¶\n",
    "X.T[0] = X.T[0] + np.random.normal(0, .05, X.shape[0])\n",
    "X.T[1] = X.T[1] + np.random.normal(0, .05, X.shape[0])\n",
    "\n",
    "\n",
    "plt.scatter(X.T[0], X.T[1], c=y)\n",
    "plt.ylabel('x2')\n",
    "plt.xlabel('x1')"
   ]
  },
  {
   "cell_type": "markdown",
   "metadata": {},
   "source": [
    "How many of the features do we need to classify the two colours?  I could use both coordinates:\n",
    "\n",
    "yellow **if** x1 > 0.5 & x2 > 0.5\n",
    "\n",
    "purple **if** x1 < 0.5 & x2 < 0.5\n",
    "\n"
   ]
  },
  {
   "cell_type": "code",
   "execution_count": 47,
   "metadata": {
    "collapsed": false
   },
   "outputs": [
    {
     "data": {
      "text/plain": [
       "<matplotlib.text.Text at 0x11320d198>"
      ]
     },
     "execution_count": 47,
     "metadata": {},
     "output_type": "execute_result"
    },
    {
     "data": {
      "image/png": "[encoded data removed]",
      "text/plain": [
       "<matplotlib.figure.Figure at 0x112c20dd8>"
      ]
     },
     "metadata": {},
     "output_type": "display_data"
    }
   ],
   "source": [
    "plt.scatter(X.T[0], X.T[1], c=y)\n",
    "plt.hlines(0.5, -2.5, 2)\n",
    "plt.vlines(0.5, -2.5, 2)\n",
    "plt.ylabel('x2')\n",
    "plt.xlabel('x1')\n"
   ]
  },
  {
   "cell_type": "markdown",
   "metadata": {},
   "source": [
    "But we can do better - let's do PCA on the data `X`"
   ]
  },
  {
   "cell_type": "code",
   "execution_count": 51,
   "metadata": {
    "collapsed": false
   },
   "outputs": [
    {
     "data": {
      "text/plain": [
       "PCA(copy=True, iterated_power='auto', n_components=2, random_state=None,\n",
       "  svd_solver='auto', tol=0.0, whiten=False)"
      ]
     },
     "execution_count": 51,
     "metadata": {},
     "output_type": "execute_result"
    }
   ],
   "source": [
    "from sklearn.decomposition import PCA\n",
    "\n",
    "# Calling 'fit' is asking the PCA class to find out what combination of inputs explains the most variance in the data. \n",
    "# \n",
    "pca = PCA(n_components=2)\n",
    "pca.fit(X)\n",
    "\n"
   ]
  },
  {
   "cell_type": "markdown",
   "metadata": {},
   "source": [
    "### Reduce dimension - continued. \n"
   ]
  },
  {
   "cell_type": "code",
   "execution_count": 7,
   "metadata": {
    "collapsed": false
   },
   "outputs": [
    {
     "name": "stdout",
     "output_type": "stream",
     "text": [
      "(1797, 20)\n"
     ]
    }
   ],
   "source": [
    "from sklearn import decomposition\n",
    "\n",
    "# get the first 20 pca components\n",
    "pca = decomposition.PCA(n_components=20)\n",
    "pca.fit(imagesWithPixelsScaled)\n",
    "\n",
    "# using the pca components to transform the images to a lower dimensional representation\n",
    "image_pca_Representation = pca.transform(imagesWithPixelsScaled)\n",
    "print(image_pca_Representation.shape)"
   ]
  },
  {
   "cell_type": "markdown",
   "metadata": {},
   "source": [
    "The components of a PCA analysis still have zero mean but their variance has changed. "
   ]
  },
  {
   "cell_type": "code",
   "execution_count": 8,
   "metadata": {
    "collapsed": false
   },
   "outputs": [
    {
     "data": {
      "text/plain": [
       "<matplotlib.text.Text at 0x1141e1f10>"
      ]
     },
     "execution_count": 8,
     "metadata": {},
     "output_type": "execute_result"
    },
    {
     "data": {
      "image/png": "[encoded data removed]",
      "text/plain": [
       "<matplotlib.figure.Figure at 0x1141d9a10>"
      ]
     },
     "metadata": {},
     "output_type": "display_data"
    }
   ],
   "source": [
    "\n",
    "# Q plot the means and standard deviation of the PCA components\n",
    "\n",
    "pca_avg = image_pca_Representation.mean(axis=0)\n",
    "pca_std = image_pca_Representation.std(axis=0)\n",
    "\n",
    "plt.errorbar(np.arange(image_pca_Representation.shape[1]), pca_avg , yerr=pca_std, fmt='o')\n",
    "plt.title('Feature mean and standard deviation of PCA components')\n",
    "plt.xticks(np.arange(image_pca_Representation.shape[1]))\n",
    "plt.xlabel('PCA feature index')"
   ]
  },
  {
   "cell_type": "markdown",
   "metadata": {},
   "source": [
    "The PCA components are ordered in terms of their ability to explain the variance in the data. "
   ]
  },
  {
   "cell_type": "code",
   "execution_count": 9,
   "metadata": {
    "collapsed": false
   },
   "outputs": [
    {
     "data": {
      "text/plain": [
       "<matplotlib.text.Text at 0x1143392d0>"
      ]
     },
     "execution_count": 9,
     "metadata": {},
     "output_type": "execute_result"
    },
    {
     "data": {
      "image/png": "[encoded data removed]",
      "text/plain": [
       "<matplotlib.figure.Figure at 0x11515c050>"
      ]
     },
     "metadata": {},
     "output_type": "display_data"
    }
   ],
   "source": [
    "# now we will plot the pca components, ordered in terms of their \"explanatory power\" - i.e., \n",
    "#   their ability to explain variance in the data\n",
    "\n",
    "plt.bar(np.arange(pca.n_components_), pca.explained_variance_)\n",
    "plt.xticks(np.arange(pca.n_components_))\n",
    "plt.ylabel('Ability to explain data variance')\n",
    "plt.xlabel('PCA component index')"
   ]
  },
  {
   "cell_type": "markdown",
   "metadata": {},
   "source": [
    "### Fit model \n",
    "Now we can apply an estimator to the data to try and make predictions. We're going to use a [Logistic Regression](http://scikit-learn.org/stable/modules/linear_model.html#logistic-regression) classifier. The parameter we will tune later is `C`, the regularization strength.  "
   ]
  },
  {
   "cell_type": "code",
   "execution_count": 10,
   "metadata": {
    "collapsed": false
   },
   "outputs": [
    {
     "data": {
      "text/plain": [
       "LogisticRegression(C=0.001, class_weight=None, dual=False, fit_intercept=True,\n",
       "          intercept_scaling=1, max_iter=100, multi_class='ovr', n_jobs=1,\n",
       "          penalty='l2', random_state=None, solver='liblinear', tol=0.0001,\n",
       "          verbose=0, warm_start=False)"
      ]
     },
     "execution_count": 10,
     "metadata": {},
     "output_type": "execute_result"
    }
   ],
   "source": [
    "from sklearn import linear_model\n",
    "\n",
    "# specify logistic regression with a specified regularization\n",
    "logistic = linear_model.LogisticRegression(C=0.001)\n",
    "\n",
    "# fit a logistic regression mapping function which can transfer image_pcaRepresentation to arrayOfDigitValues\n",
    "logistic.fit(image_pca_Representation, arrayOfDigitValues)"
   ]
  },
  {
   "cell_type": "code",
   "execution_count": 11,
   "metadata": {
    "collapsed": false
   },
   "outputs": [
    {
     "name": "stdout",
     "output_type": "stream",
     "text": [
      "Mean accuracy = 88.76%\n"
     ]
    }
   ],
   "source": [
    "# now let's look at the classification accuracy of our logistic regression mapping function\n",
    "score = logistic.score(image_pca_Representation, arrayOfDigitValues)\n",
    "print('Mean accuracy = {:4.2f}%'.format(100*score))"
   ]
  },
  {
   "cell_type": "markdown",
   "metadata": {},
   "source": [
    "## Pipelines and hyperparameter optimization\n",
    "\n",
    "Our first attempt resulted in pretty poor accuracy, but we haven't fully explored the hyperparameter space, so maybe we can do better. \n",
    "\n",
    "To speed up optimisation of these parameters, we can combine all the step we took above into a single pipeline. Then we can split the data into test and training data to more accurately test the model's accuracy. \n",
    "\n",
    "The training data can be further split into training and validation to optimize the hyperparameters, or (better) use cross validation on the training data to optimize the hyperparameters. \n",
    "\n",
    "The hyperparameters to be explored are the number of PCA components and the logistic regression regularization strength. \n",
    "\n",
    "The training/test split will be 60/40.  On the training data will we use 5-fold cross validation with a grid-search parameter optimization.  "
   ]
  },
  {
   "cell_type": "markdown",
   "metadata": {},
   "source": [
    "### Split data: train/test\n",
    "\n",
    "First split the data into training and test data. `X_train` and `X_test` are the features (the pixels) for the training and test data, and `y_train` and `y_test` are the targets."
   ]
  },
  {
   "cell_type": "code",
   "execution_count": 12,
   "metadata": {
    "collapsed": false
   },
   "outputs": [
    {
     "name": "stdout",
     "output_type": "stream",
     "text": [
      "((1078, 64), (719, 64))\n",
      "((1078,), (719,))\n"
     ]
    }
   ],
   "source": [
    "from sklearn.model_selection import train_test_split\n",
    "\n",
    "trainingImages, testingImages, trainingValues, testingValues = train_test_split(\n",
    "    arrayOfWrittenDigitImages, arrayOfDigitValues, test_size=0.4, random_state=0)\n",
    "\n",
    "print(trainingImages.shape, testingImages.shape)\n",
    "print(trainingValues.shape, testingValues.shape)"
   ]
  },
  {
   "cell_type": "markdown",
   "metadata": {},
   "source": [
    "### Setup pipeline\n",
    "See [Pipelines](http://scikit-learn.org/stable/modules/pipeline.html#pipeline-chaining-estimators).  We chain all the steps for scaling, dimensionality reduction and fitting together in a pipeline. We **don't** set any hyperparameters that we want to optimize using cross validation.  Although if there are parameters that don't change we could set them here. See the docs for instructions. "
   ]
  },
  {
   "cell_type": "code",
   "execution_count": 13,
   "metadata": {
    "collapsed": false
   },
   "outputs": [],
   "source": [
    "from sklearn.pipeline import Pipeline\n",
    "\n",
    "scaler = preprocessing.StandardScaler()\n",
    "pca = decomposition.PCA()\n",
    "logistic = linear_model.LogisticRegression()\n",
    "\n",
    "# Now we set up a machine learning \"pipeline\" \n",
    "# which is essentially a list of the steps we want to take to prepare our data & train our model\n",
    "\n",
    "pipe = Pipeline(steps=[('scale', scaler), ('pca', pca), ('logistic', logistic)])"
   ]
  },
  {
   "cell_type": "markdown",
   "metadata": {},
   "source": [
    "### Setup parameter search\n",
    "\n",
    "We will use a grid search strategy to go through all the possible values of the hyperparameters and record the score of\n",
    "prediction.  For each combination of hyperparameters, the model will be fit on 4/5ths of the training data and then scored\n",
    "on the remaining 1/5th.  This is repeated 5 times by changing the 1/5th of the training data that is left out. See the [cross validation](https://en.wikipedia.org/wiki/Cross-validation_(statistics)) for more information. \n",
    "\n",
    "This strategy allows you to get an average accuracy and error for each set of hyperparameters.  "
   ]
  },
  {
   "cell_type": "code",
   "execution_count": 14,
   "metadata": {
    "collapsed": false
   },
   "outputs": [
    {
     "name": "stdout",
     "output_type": "stream",
     "text": [
      "cross validation group 1: 862 training images and 216 test images\n",
      "cross validation group 2: 862 training images and 216 test images\n",
      "cross validation group 3: 862 training images and 216 test images\n",
      "cross validation group 4: 863 training images and 215 test images\n",
      "cross validation group 5: 863 training images and 215 test images\n",
      "\n",
      "\n",
      "PCA components to explore:\n",
      "[20, 24, 28, 32, 36, 40, 44, 48, 52, 56, 60, 64] \n",
      "\n",
      "Regularization values to explore:\n",
      "[  1.00000000e-04   7.74263683e-04   5.99484250e-03   4.64158883e-02\n",
      "   3.59381366e-01   2.78255940e+00   2.15443469e+01   1.66810054e+02\n",
      "   1.29154967e+03   1.00000000e+04]\n"
     ]
    }
   ],
   "source": [
    "from sklearn.model_selection import GridSearchCV\n",
    "from sklearn.model_selection import KFold\n",
    "\n",
    "# 5-fold cross validation.  \n",
    "# This is an iterator that will split up the data into two groups of size 4/5 and 1/5 of the training data\n",
    "cv_iter = KFold(n_splits=5)\n",
    "# Print out the size of the train / test data for each group.\n",
    "ctr = 1\n",
    "for train, test in cv_iter.split(trainingImages):\n",
    "    print(\"cross validation group %s: %s training images and %s test images\" % (ctr, train.shape[0], test.shape[0]))\n",
    "    ctr = ctr + 1\n",
    "print \"\\n\"\n",
    "    \n",
    "# specify & print the range of PCA components that we'll explore.\n",
    "n_components = list(np.arange(20, 65, 4))\n",
    "print \"PCA components to explore:\"\n",
    "print n_components,\"\\n\"\n",
    "\n",
    "# specify & print the range of regularization values that we'll explore.\n",
    "Cs = np.logspace(-4, 4, 10)\n",
    "print \"Regularization values to explore:\"\n",
    "print Cs\n",
    "\n",
    "# Set up the Grid Search Estimator, includes:\n",
    "#   - the pipeline specification\n",
    "#   - the parameters over which we will carry out grid search\n",
    "#   - the training/test data for each cross validation group\n",
    "estimator = GridSearchCV(pipe,dict(pca__n_components=n_components,logistic__C=Cs), cv=cv_iter)"
   ]
  },
  {
   "cell_type": "markdown",
   "metadata": {},
   "source": [
    "## Find optimal estimator\n",
    "\n",
    "Now we fit the `estimator` just like we would any other model, but now it's doing a fit for each pair of values in the grid search"
   ]
  },
  {
   "cell_type": "code",
   "execution_count": 15,
   "metadata": {
    "collapsed": false
   },
   "outputs": [
    {
     "data": {
      "text/plain": [
       "GridSearchCV(cv=KFold(n_splits=5, random_state=None, shuffle=False),\n",
       "       error_score='raise',\n",
       "       estimator=Pipeline(memory=None,\n",
       "     steps=[('scale', StandardScaler(copy=True, with_mean=True, with_std=True)), ('pca', PCA(copy=True, iterated_power='auto', n_components=None, random_state=None,\n",
       "  svd_solver='auto', tol=0.0, whiten=False)), ('logistic', LogisticRegression(C=1.0, class_weight=None,...y='l2', random_state=None, solver='liblinear', tol=0.0001,\n",
       "          verbose=0, warm_start=False))]),\n",
       "       fit_params=None, iid=True, n_jobs=1,\n",
       "       param_grid={'logistic__C': array([  1.00000e-04,   7.74264e-04,   5.99484e-03,   4.64159e-02,\n",
       "         3.59381e-01,   2.78256e+00,   2.15443e+01,   1.66810e+02,\n",
       "         1.29155e+03,   1.00000e+04]), 'pca__n_components': [20, 24, 28, 32, 36, 40, 44, 48, 52, 56, 60, 64]},\n",
       "       pre_dispatch='2*n_jobs', refit=True, return_train_score=True,\n",
       "       scoring=None, verbose=0)"
      ]
     },
     "execution_count": 15,
     "metadata": {},
     "output_type": "execute_result"
    }
   ],
   "source": [
    "estimator.fit(trainingImages, trainingValues)"
   ]
  },
  {
   "cell_type": "markdown",
   "metadata": {},
   "source": [
    "The best scoring model is saved in the estimator object. Let's print it out to see which one was the best."
   ]
  },
  {
   "cell_type": "code",
   "execution_count": 16,
   "metadata": {
    "collapsed": false
   },
   "outputs": [
    {
     "name": "stdout",
     "output_type": "stream",
     "text": [
      "Pipeline(memory=None,\n",
      "     steps=[('scale', StandardScaler(copy=True, with_mean=True, with_std=True)), ('pca', PCA(copy=True, iterated_power='auto', n_components=48, random_state=None,\n",
      "  svd_solver='auto', tol=0.0, whiten=False)), ('logistic', LogisticRegression(C=2.7825594022071258, class_weight=None, dual=False,\n",
      "          fit_intercept=True, intercept_scaling=1, max_iter=100,\n",
      "          multi_class='ovr', n_jobs=1, penalty='l2', random_state=None,\n",
      "          solver='liblinear', tol=0.0001, verbose=0, warm_start=False))])\n"
     ]
    }
   ],
   "source": [
    "print(estimator.best_estimator_)"
   ]
  },
  {
   "cell_type": "code",
   "execution_count": 17,
   "metadata": {
    "collapsed": false
   },
   "outputs": [
    {
     "name": "stdout",
     "output_type": "stream",
     "text": [
      "Best accuracy 96.10% \n",
      "was achieved with: \n",
      "{'logistic__C': 2.7825594022071258, 'pca__n_components': 48}\n"
     ]
    }
   ],
   "source": [
    "# Q : use the sklearn API to access the 1) best score and 2) the dictionary of best parameters\n",
    "\n",
    "print('Best accuracy {:4.2f}% '.format(100*estimator.best_score_))\n",
    "print('was achieved with: \\n{}'.format(estimator.best_params_))"
   ]
  },
  {
   "cell_type": "markdown",
   "metadata": {},
   "source": [
    "We can now test the model on the full test data for a better reflection of it's accuracy"
   ]
  },
  {
   "cell_type": "code",
   "execution_count": 18,
   "metadata": {
    "collapsed": false
   },
   "outputs": [
    {
     "name": "stdout",
     "output_type": "stream",
     "text": [
      "Score on test data: 95.69%\n"
     ]
    }
   ],
   "source": [
    "# Q now test the estimator on the test data for the final assessment of the model\n",
    "\n",
    "test_score = estimator.score(testingImages,testingValues)\n",
    "print('Score on test data: {:4.2f}%'.format(test_score*100))"
   ]
  },
  {
   "cell_type": "markdown",
   "metadata": {},
   "source": [
    "### Understanding the effect of the hyperparameters"
   ]
  },
  {
   "cell_type": "markdown",
   "metadata": {},
   "source": [
    "The scores from all the different sets of parameters was recorded in the estimator object and can be converted to a dataframe. \n"
   ]
  },
  {
   "cell_type": "code",
   "execution_count": 19,
   "metadata": {
    "collapsed": false
   },
   "outputs": [
    {
     "data": {
      "text/html": [
       "<div>\n",
       "<table border=\"1\" class=\"dataframe\">\n",
       "  <thead>\n",
       "    <tr style=\"text-align: right;\">\n",
       "      <th></th>\n",
       "      <th>mean_fit_time</th>\n",
       "      <th>mean_score_time</th>\n",
       "      <th>mean_test_score</th>\n",
       "      <th>mean_train_score</th>\n",
       "      <th>param_logistic__C</th>\n",
       "      <th>param_pca__n_components</th>\n",
       "      <th>params</th>\n",
       "      <th>rank_test_score</th>\n",
       "      <th>split0_test_score</th>\n",
       "      <th>split0_train_score</th>\n",
       "      <th>...</th>\n",
       "      <th>split2_test_score</th>\n",
       "      <th>split2_train_score</th>\n",
       "      <th>split3_test_score</th>\n",
       "      <th>split3_train_score</th>\n",
       "      <th>split4_test_score</th>\n",
       "      <th>split4_train_score</th>\n",
       "      <th>std_fit_time</th>\n",
       "      <th>std_score_time</th>\n",
       "      <th>std_test_score</th>\n",
       "      <th>std_train_score</th>\n",
       "    </tr>\n",
       "  </thead>\n",
       "  <tbody>\n",
       "    <tr>\n",
       "      <th>0</th>\n",
       "      <td>0.016984</td>\n",
       "      <td>0.000789</td>\n",
       "      <td>0.833952</td>\n",
       "      <td>0.848565</td>\n",
       "      <td>0.0001</td>\n",
       "      <td>20</td>\n",
       "      <td>{u'logistic__C': 0.0001, u'pca__n_components':...</td>\n",
       "      <td>120</td>\n",
       "      <td>0.805556</td>\n",
       "      <td>0.858469</td>\n",
       "      <td>...</td>\n",
       "      <td>0.856481</td>\n",
       "      <td>0.853828</td>\n",
       "      <td>0.823256</td>\n",
       "      <td>0.848204</td>\n",
       "      <td>0.823256</td>\n",
       "      <td>0.837775</td>\n",
       "      <td>0.005617</td>\n",
       "      <td>0.000235</td>\n",
       "      <td>0.021371</td>\n",
       "      <td>0.007190</td>\n",
       "    </tr>\n",
       "    <tr>\n",
       "      <th>1</th>\n",
       "      <td>0.014017</td>\n",
       "      <td>0.000566</td>\n",
       "      <td>0.844156</td>\n",
       "      <td>0.854129</td>\n",
       "      <td>0.0001</td>\n",
       "      <td>24</td>\n",
       "      <td>{u'logistic__C': 0.0001, u'pca__n_components':...</td>\n",
       "      <td>119</td>\n",
       "      <td>0.824074</td>\n",
       "      <td>0.857309</td>\n",
       "      <td>...</td>\n",
       "      <td>0.865741</td>\n",
       "      <td>0.859629</td>\n",
       "      <td>0.841860</td>\n",
       "      <td>0.858633</td>\n",
       "      <td>0.823256</td>\n",
       "      <td>0.844728</td>\n",
       "      <td>0.001491</td>\n",
       "      <td>0.000084</td>\n",
       "      <td>0.018860</td>\n",
       "      <td>0.005715</td>\n",
       "    </tr>\n",
       "    <tr>\n",
       "      <th>2</th>\n",
       "      <td>0.017261</td>\n",
       "      <td>0.000589</td>\n",
       "      <td>0.849722</td>\n",
       "      <td>0.856681</td>\n",
       "      <td>0.0001</td>\n",
       "      <td>28</td>\n",
       "      <td>{u'logistic__C': 0.0001, u'pca__n_components':...</td>\n",
       "      <td>118</td>\n",
       "      <td>0.837963</td>\n",
       "      <td>0.863109</td>\n",
       "      <td>...</td>\n",
       "      <td>0.865741</td>\n",
       "      <td>0.863109</td>\n",
       "      <td>0.846512</td>\n",
       "      <td>0.859791</td>\n",
       "      <td>0.827907</td>\n",
       "      <td>0.847045</td>\n",
       "      <td>0.001994</td>\n",
       "      <td>0.000095</td>\n",
       "      <td>0.016172</td>\n",
       "      <td>0.006712</td>\n",
       "    </tr>\n",
       "    <tr>\n",
       "      <th>3</th>\n",
       "      <td>0.016534</td>\n",
       "      <td>0.000545</td>\n",
       "      <td>0.858071</td>\n",
       "      <td>0.862014</td>\n",
       "      <td>0.0001</td>\n",
       "      <td>32</td>\n",
       "      <td>{u'logistic__C': 0.0001, u'pca__n_components':...</td>\n",
       "      <td>115</td>\n",
       "      <td>0.856481</td>\n",
       "      <td>0.866589</td>\n",
       "      <td>...</td>\n",
       "      <td>0.870370</td>\n",
       "      <td>0.868910</td>\n",
       "      <td>0.851163</td>\n",
       "      <td>0.864426</td>\n",
       "      <td>0.827907</td>\n",
       "      <td>0.853998</td>\n",
       "      <td>0.001060</td>\n",
       "      <td>0.000019</td>\n",
       "      <td>0.018953</td>\n",
       "      <td>0.005882</td>\n",
       "    </tr>\n",
       "    <tr>\n",
       "      <th>4</th>\n",
       "      <td>0.018282</td>\n",
       "      <td>0.000621</td>\n",
       "      <td>0.858071</td>\n",
       "      <td>0.863869</td>\n",
       "      <td>0.0001</td>\n",
       "      <td>36</td>\n",
       "      <td>{u'logistic__C': 0.0001, u'pca__n_components':...</td>\n",
       "      <td>115</td>\n",
       "      <td>0.842593</td>\n",
       "      <td>0.868910</td>\n",
       "      <td>...</td>\n",
       "      <td>0.875000</td>\n",
       "      <td>0.871230</td>\n",
       "      <td>0.851163</td>\n",
       "      <td>0.866744</td>\n",
       "      <td>0.832558</td>\n",
       "      <td>0.858633</td>\n",
       "      <td>0.001639</td>\n",
       "      <td>0.000134</td>\n",
       "      <td>0.020858</td>\n",
       "      <td>0.006574</td>\n",
       "    </tr>\n",
       "  </tbody>\n",
       "</table>\n",
       "<p>5 rows × 22 columns</p>\n",
       "</div>"
      ],
      "text/plain": [
       "   mean_fit_time  mean_score_time  mean_test_score  mean_train_score  \\\n",
       "0       0.016984         0.000789         0.833952          0.848565   \n",
       "1       0.014017         0.000566         0.844156          0.854129   \n",
       "2       0.017261         0.000589         0.849722          0.856681   \n",
       "3       0.016534         0.000545         0.858071          0.862014   \n",
       "4       0.018282         0.000621         0.858071          0.863869   \n",
       "\n",
       "  param_logistic__C param_pca__n_components  \\\n",
       "0            0.0001                      20   \n",
       "1            0.0001                      24   \n",
       "2            0.0001                      28   \n",
       "3            0.0001                      32   \n",
       "4            0.0001                      36   \n",
       "\n",
       "                                              params  rank_test_score  \\\n",
       "0  {u'logistic__C': 0.0001, u'pca__n_components':...              120   \n",
       "1  {u'logistic__C': 0.0001, u'pca__n_components':...              119   \n",
       "2  {u'logistic__C': 0.0001, u'pca__n_components':...              118   \n",
       "3  {u'logistic__C': 0.0001, u'pca__n_components':...              115   \n",
       "4  {u'logistic__C': 0.0001, u'pca__n_components':...              115   \n",
       "\n",
       "   split0_test_score  split0_train_score       ...         split2_test_score  \\\n",
       "0           0.805556            0.858469       ...                  0.856481   \n",
       "1           0.824074            0.857309       ...                  0.865741   \n",
       "2           0.837963            0.863109       ...                  0.865741   \n",
       "3           0.856481            0.866589       ...                  0.870370   \n",
       "4           0.842593            0.868910       ...                  0.875000   \n",
       "\n",
       "   split2_train_score  split3_test_score  split3_train_score  \\\n",
       "0            0.853828           0.823256            0.848204   \n",
       "1            0.859629           0.841860            0.858633   \n",
       "2            0.863109           0.846512            0.859791   \n",
       "3            0.868910           0.851163            0.864426   \n",
       "4            0.871230           0.851163            0.866744   \n",
       "\n",
       "   split4_test_score  split4_train_score  std_fit_time  std_score_time  \\\n",
       "0           0.823256            0.837775      0.005617        0.000235   \n",
       "1           0.823256            0.844728      0.001491        0.000084   \n",
       "2           0.827907            0.847045      0.001994        0.000095   \n",
       "3           0.827907            0.853998      0.001060        0.000019   \n",
       "4           0.832558            0.858633      0.001639        0.000134   \n",
       "\n",
       "   std_test_score  std_train_score  \n",
       "0        0.021371         0.007190  \n",
       "1        0.018860         0.005715  \n",
       "2        0.016172         0.006712  \n",
       "3        0.018953         0.005882  \n",
       "4        0.020858         0.006574  \n",
       "\n",
       "[5 rows x 22 columns]"
      ]
     },
     "execution_count": 19,
     "metadata": {},
     "output_type": "execute_result"
    }
   ],
   "source": [
    "import pandas as pd\n",
    "results = pd.DataFrame(estimator.cv_results_)\n",
    "results.head()"
   ]
  },
  {
   "cell_type": "markdown",
   "metadata": {},
   "source": [
    "We can plot the results on a seaborn facetgrid to understand how the different hyperparameters affect the accuracy of the prediction. Recall that we've split the data two different ways. \n",
    "1. 60/40 split for training and **final** test. We will ignore this test data from now on. \n",
    "2. 5-fold cross validation on the training data. i.e. 80/20 split.  The 80/20 split is still referred to as a training/test split in the results below. \n",
    "\n",
    "We'd like to see (for didactic purposes) the score on the training/test data from the cross validation results. We would expect the test data to score worse than the training data. To do this we need to melt the data frame so that the training/test scores are in the same column. This is slightly complicated but I'm putting it here to show you the power of dataframes. "
   ]
  },
  {
   "cell_type": "code",
   "execution_count": 20,
   "metadata": {
    "collapsed": false
   },
   "outputs": [
    {
     "data": {
      "text/html": [
       "<div>\n",
       "<table border=\"1\" class=\"dataframe\">\n",
       "  <thead>\n",
       "    <tr style=\"text-align: right;\">\n",
       "      <th></th>\n",
       "      <th></th>\n",
       "      <th>mean_test_score</th>\n",
       "      <th>mean_train_score</th>\n",
       "      <th>std_test_score</th>\n",
       "      <th>std_train_score</th>\n",
       "    </tr>\n",
       "    <tr>\n",
       "      <th>param_logistic__C</th>\n",
       "      <th>param_pca__n_components</th>\n",
       "      <th></th>\n",
       "      <th></th>\n",
       "      <th></th>\n",
       "      <th></th>\n",
       "    </tr>\n",
       "  </thead>\n",
       "  <tbody>\n",
       "    <tr>\n",
       "      <th rowspan=\"5\" valign=\"top\">0.0001</th>\n",
       "      <th>20</th>\n",
       "      <td>0.833952</td>\n",
       "      <td>0.848565</td>\n",
       "      <td>0.021371</td>\n",
       "      <td>0.007190</td>\n",
       "    </tr>\n",
       "    <tr>\n",
       "      <th>24</th>\n",
       "      <td>0.844156</td>\n",
       "      <td>0.854129</td>\n",
       "      <td>0.018860</td>\n",
       "      <td>0.005715</td>\n",
       "    </tr>\n",
       "    <tr>\n",
       "      <th>28</th>\n",
       "      <td>0.849722</td>\n",
       "      <td>0.856681</td>\n",
       "      <td>0.016172</td>\n",
       "      <td>0.006712</td>\n",
       "    </tr>\n",
       "    <tr>\n",
       "      <th>32</th>\n",
       "      <td>0.858071</td>\n",
       "      <td>0.862014</td>\n",
       "      <td>0.018953</td>\n",
       "      <td>0.005882</td>\n",
       "    </tr>\n",
       "    <tr>\n",
       "      <th>36</th>\n",
       "      <td>0.858071</td>\n",
       "      <td>0.863869</td>\n",
       "      <td>0.020858</td>\n",
       "      <td>0.006574</td>\n",
       "    </tr>\n",
       "  </tbody>\n",
       "</table>\n",
       "</div>"
      ],
      "text/plain": [
       "                                           mean_test_score  mean_train_score  \\\n",
       "param_logistic__C param_pca__n_components                                      \n",
       "0.0001            20                              0.833952          0.848565   \n",
       "                  24                              0.844156          0.854129   \n",
       "                  28                              0.849722          0.856681   \n",
       "                  32                              0.858071          0.862014   \n",
       "                  36                              0.858071          0.863869   \n",
       "\n",
       "                                           std_test_score  std_train_score  \n",
       "param_logistic__C param_pca__n_components                                   \n",
       "0.0001            20                             0.021371         0.007190  \n",
       "                  24                             0.018860         0.005715  \n",
       "                  28                             0.016172         0.006712  \n",
       "                  32                             0.018953         0.005882  \n",
       "                  36                             0.020858         0.006574  "
      ]
     },
     "execution_count": 20,
     "metadata": {},
     "output_type": "execute_result"
    }
   ],
   "source": [
    "# First subset the dataframe so that it only gives the results we're interested in. \n",
    "df = results.copy()\n",
    "df.set_index(['param_logistic__C', 'param_pca__n_components'], inplace=True)\n",
    "df = df.filter(regex=(\"mean.*score$|std.*score$\"))\n",
    "df.head()"
   ]
  },
  {
   "cell_type": "code",
   "execution_count": 21,
   "metadata": {
    "collapsed": false
   },
   "outputs": [
    {
     "data": {
      "text/html": [
       "<div>\n",
       "<table border=\"1\" class=\"dataframe\">\n",
       "  <thead>\n",
       "    <tr>\n",
       "      <th></th>\n",
       "      <th></th>\n",
       "      <th colspan=\"2\" halign=\"left\">mean</th>\n",
       "      <th colspan=\"2\" halign=\"left\">std</th>\n",
       "    </tr>\n",
       "    <tr>\n",
       "      <th></th>\n",
       "      <th></th>\n",
       "      <th>test</th>\n",
       "      <th>train</th>\n",
       "      <th>test</th>\n",
       "      <th>train</th>\n",
       "    </tr>\n",
       "    <tr>\n",
       "      <th>param_logistic__C</th>\n",
       "      <th>param_pca__n_components</th>\n",
       "      <th></th>\n",
       "      <th></th>\n",
       "      <th></th>\n",
       "      <th></th>\n",
       "    </tr>\n",
       "  </thead>\n",
       "  <tbody>\n",
       "    <tr>\n",
       "      <th rowspan=\"5\" valign=\"top\">0.0001</th>\n",
       "      <th>20</th>\n",
       "      <td>0.833952</td>\n",
       "      <td>0.848565</td>\n",
       "      <td>0.021371</td>\n",
       "      <td>0.007190</td>\n",
       "    </tr>\n",
       "    <tr>\n",
       "      <th>24</th>\n",
       "      <td>0.844156</td>\n",
       "      <td>0.854129</td>\n",
       "      <td>0.018860</td>\n",
       "      <td>0.005715</td>\n",
       "    </tr>\n",
       "    <tr>\n",
       "      <th>28</th>\n",
       "      <td>0.849722</td>\n",
       "      <td>0.856681</td>\n",
       "      <td>0.016172</td>\n",
       "      <td>0.006712</td>\n",
       "    </tr>\n",
       "    <tr>\n",
       "      <th>32</th>\n",
       "      <td>0.858071</td>\n",
       "      <td>0.862014</td>\n",
       "      <td>0.018953</td>\n",
       "      <td>0.005882</td>\n",
       "    </tr>\n",
       "    <tr>\n",
       "      <th>36</th>\n",
       "      <td>0.858071</td>\n",
       "      <td>0.863869</td>\n",
       "      <td>0.020858</td>\n",
       "      <td>0.006574</td>\n",
       "    </tr>\n",
       "  </tbody>\n",
       "</table>\n",
       "</div>"
      ],
      "text/plain": [
       "                                               mean                 std  \\\n",
       "                                               test     train      test   \n",
       "param_logistic__C param_pca__n_components                                 \n",
       "0.0001            20                       0.833952  0.848565  0.021371   \n",
       "                  24                       0.844156  0.854129  0.018860   \n",
       "                  28                       0.849722  0.856681  0.016172   \n",
       "                  32                       0.858071  0.862014  0.018953   \n",
       "                  36                       0.858071  0.863869  0.020858   \n",
       "\n",
       "                                                     \n",
       "                                              train  \n",
       "param_logistic__C param_pca__n_components            \n",
       "0.0001            20                       0.007190  \n",
       "                  24                       0.005715  \n",
       "                  28                       0.006712  \n",
       "                  32                       0.005882  \n",
       "                  36                       0.006574  "
      ]
     },
     "execution_count": 21,
     "metadata": {},
     "output_type": "execute_result"
    }
   ],
   "source": [
    "# Now create a multi-index on the columns. \n",
    "df.columns = df.columns.str.replace('_score', '')\n",
    "df.columns = pd.MultiIndex.from_tuples(tuple(df.columns.str.split(\"_\")))\n",
    "df.head()\n"
   ]
  },
  {
   "cell_type": "code",
   "execution_count": 22,
   "metadata": {
    "collapsed": false
   },
   "outputs": [],
   "source": [
    "# Now collapse the columns and rename the columns\n",
    "df = df.stack(level = 1).reset_index()\n",
    "df.rename(columns={'level_2':'CV_split', 'mean':'accuracy', 'std':'error', \n",
    "                  'param_logistic__C': 'regularization_C', 'param_pca__n_components':'PCA_components'}, inplace=True)"
   ]
  },
  {
   "cell_type": "code",
   "execution_count": 23,
   "metadata": {
    "collapsed": false
   },
   "outputs": [
    {
     "data": {
      "text/html": [
       "<div>\n",
       "<table border=\"1\" class=\"dataframe\">\n",
       "  <thead>\n",
       "    <tr style=\"text-align: right;\">\n",
       "      <th></th>\n",
       "      <th>regularization_C</th>\n",
       "      <th>PCA_components</th>\n",
       "      <th>CV_split</th>\n",
       "      <th>accuracy</th>\n",
       "      <th>error</th>\n",
       "    </tr>\n",
       "  </thead>\n",
       "  <tbody>\n",
       "    <tr>\n",
       "      <th>0</th>\n",
       "      <td>0.0001</td>\n",
       "      <td>20</td>\n",
       "      <td>test</td>\n",
       "      <td>0.833952</td>\n",
       "      <td>0.021371</td>\n",
       "    </tr>\n",
       "    <tr>\n",
       "      <th>1</th>\n",
       "      <td>0.0001</td>\n",
       "      <td>20</td>\n",
       "      <td>train</td>\n",
       "      <td>0.848565</td>\n",
       "      <td>0.007190</td>\n",
       "    </tr>\n",
       "    <tr>\n",
       "      <th>2</th>\n",
       "      <td>0.0001</td>\n",
       "      <td>24</td>\n",
       "      <td>test</td>\n",
       "      <td>0.844156</td>\n",
       "      <td>0.018860</td>\n",
       "    </tr>\n",
       "    <tr>\n",
       "      <th>3</th>\n",
       "      <td>0.0001</td>\n",
       "      <td>24</td>\n",
       "      <td>train</td>\n",
       "      <td>0.854129</td>\n",
       "      <td>0.005715</td>\n",
       "    </tr>\n",
       "    <tr>\n",
       "      <th>4</th>\n",
       "      <td>0.0001</td>\n",
       "      <td>28</td>\n",
       "      <td>test</td>\n",
       "      <td>0.849722</td>\n",
       "      <td>0.016172</td>\n",
       "    </tr>\n",
       "  </tbody>\n",
       "</table>\n",
       "</div>"
      ],
      "text/plain": [
       "   regularization_C  PCA_components CV_split  accuracy     error\n",
       "0            0.0001              20     test  0.833952  0.021371\n",
       "1            0.0001              20    train  0.848565  0.007190\n",
       "2            0.0001              24     test  0.844156  0.018860\n",
       "3            0.0001              24    train  0.854129  0.005715\n",
       "4            0.0001              28     test  0.849722  0.016172"
      ]
     },
     "execution_count": 23,
     "metadata": {},
     "output_type": "execute_result"
    }
   ],
   "source": [
    "df.head()"
   ]
  },
  {
   "cell_type": "markdown",
   "metadata": {},
   "source": [
    "Now we can see the effect of changing the hyperparameters on the accuracy.  For each change the test score is worse than the training score (as expected)."
   ]
  },
  {
   "cell_type": "code",
   "execution_count": 24,
   "metadata": {
    "collapsed": false
   },
   "outputs": [
    {
     "ename": "ImportError",
     "evalue": "No module named seaborn",
     "output_type": "error",
     "traceback": [
      "\u001b[0;31m---------------------------------------------------------------------------\u001b[0m",
      "\u001b[0;31mImportError\u001b[0m                               Traceback (most recent call last)",
      "\u001b[0;32m<ipython-input-24-2a1d5c0698c2>\u001b[0m in \u001b[0;36m<module>\u001b[0;34m()\u001b[0m\n\u001b[0;32m----> 1\u001b[0;31m \u001b[0;32mimport\u001b[0m \u001b[0mseaborn\u001b[0m \u001b[0;32mas\u001b[0m \u001b[0msns\u001b[0m\u001b[0;34m\u001b[0m\u001b[0m\n\u001b[0m\u001b[1;32m      2\u001b[0m \u001b[0;32mwith\u001b[0m \u001b[0msns\u001b[0m\u001b[0;34m.\u001b[0m\u001b[0mplotting_context\u001b[0m\u001b[0;34m(\u001b[0m\u001b[0;34m'notebook'\u001b[0m\u001b[0;34m,\u001b[0m \u001b[0mfont_scale\u001b[0m\u001b[0;34m=\u001b[0m\u001b[0;36m1.5\u001b[0m\u001b[0;34m)\u001b[0m\u001b[0;34m:\u001b[0m\u001b[0;34m\u001b[0m\u001b[0m\n\u001b[1;32m      3\u001b[0m     \u001b[0mgrid\u001b[0m \u001b[0;34m=\u001b[0m \u001b[0msns\u001b[0m\u001b[0;34m.\u001b[0m\u001b[0mFacetGrid\u001b[0m\u001b[0;34m(\u001b[0m\u001b[0mdf\u001b[0m\u001b[0;34m,\u001b[0m \u001b[0mcol\u001b[0m\u001b[0;34m=\u001b[0m\u001b[0;34m'regularization_C'\u001b[0m\u001b[0;34m,\u001b[0m \u001b[0mhue\u001b[0m\u001b[0;34m=\u001b[0m\u001b[0;34m'CV_split'\u001b[0m\u001b[0;34m,\u001b[0m \u001b[0mcol_wrap\u001b[0m\u001b[0;34m=\u001b[0m\u001b[0;36m5\u001b[0m\u001b[0;34m,\u001b[0m \u001b[0mlegend_out\u001b[0m\u001b[0;34m=\u001b[0m\u001b[0mTrue\u001b[0m\u001b[0;34m)\u001b[0m\u001b[0;34m\u001b[0m\u001b[0m\n\u001b[1;32m      4\u001b[0m     \u001b[0mgrid\u001b[0m\u001b[0;34m.\u001b[0m\u001b[0mmap\u001b[0m\u001b[0;34m(\u001b[0m\u001b[0mplt\u001b[0m\u001b[0;34m.\u001b[0m\u001b[0merrorbar\u001b[0m\u001b[0;34m,\u001b[0m \u001b[0;34m\"PCA_components\"\u001b[0m\u001b[0;34m,\u001b[0m \u001b[0;34m\"accuracy\"\u001b[0m\u001b[0;34m,\u001b[0m \u001b[0;34m\"error\"\u001b[0m\u001b[0;34m)\u001b[0m\u001b[0;34m\u001b[0m\u001b[0m\n\u001b[1;32m      5\u001b[0m     \u001b[0mgrid\u001b[0m\u001b[0;34m.\u001b[0m\u001b[0mset_titles\u001b[0m\u001b[0;34m(\u001b[0m\u001b[0;34m'C: {col_name:4.2e}'\u001b[0m\u001b[0;34m)\u001b[0m\u001b[0;34m\u001b[0m\u001b[0m\n",
      "\u001b[0;31mImportError\u001b[0m: No module named seaborn"
     ]
    }
   ],
   "source": [
    "import seaborn as sns\n",
    "with sns.plotting_context('notebook', font_scale=1.5):\n",
    "    grid = sns.FacetGrid(df, col='regularization_C', hue='CV_split', col_wrap=5, legend_out=True)\n",
    "    grid.map(plt.errorbar, \"PCA_components\", \"accuracy\", \"error\")\n",
    "    grid.set_titles('C: {col_name:4.2e}')\n",
    "    grid.set_xlabels('PCA components')\n",
    "    grid.set_ylabels('Test score')\n",
    "    for ax in grid.axes:\n",
    "        ax.legend()\n",
    "plt.tight_layout()\n",
    "plt.show()"
   ]
  },
  {
   "cell_type": "code",
   "execution_count": null,
   "metadata": {
    "collapsed": true
   },
   "outputs": [],
   "source": []
  },
  {
   "cell_type": "code",
   "execution_count": null,
   "metadata": {
    "collapsed": true
   },
   "outputs": [],
   "source": []
  }
 ],
 "metadata": {
  "anaconda-cloud": {},
  "kernelspec": {
   "display_name": "Python 3",
   "language": "python",
   "name": "python3"
  },
  "language_info": {
   "codemirror_mode": {
    "name": "ipython",
    "version": 3
   },
   "file_extension": ".py",
   "mimetype": "text/x-python",
   "name": "python",
   "nbconvert_exporter": "python",
   "pygments_lexer": "ipython3",
   "version": "3.5.2"
  }
 },
 "nbformat": 4,
 "nbformat_minor": 2
}
