{
 "cells": [
  {
   "cell_type": "markdown",
   "metadata": {},
   "source": [
    "# Fitting continuous functions with neural networks\n",
    "\n",
    "This morning you have learned how to train a neural network to classify hand written digits. This is a classification problem, where you wish to predict a discrete variable. However, sometimes you may want to predict continuous-valued functions. In this case, we will go through how to fit a quadratic function with a neural network."
   ]
  },
  {
   "cell_type": "markdown",
   "metadata": {},
   "source": [
    "## 1. The raw data\n",
    "\n",
    "Below we generate the raw data that the neural network will be trained with. "
   ]
  },
  {
   "cell_type": "code",
   "execution_count": 1,
   "metadata": {
    "collapsed": true
   },
   "outputs": [],
   "source": [
    "import numpy as np\n",
    "\n",
    "# Generating data\n",
    "x = np.linspace(-10.0,10.0,2000)\n",
    "y = x**2 #+ np.random.normal(0,1,2000)\n"
   ]
  },
  {
   "cell_type": "code",
   "execution_count": 2,
   "metadata": {
    "collapsed": false
   },
   "outputs": [
    {
     "data": {
      "image/png": "[encoded data removed]",
      "text/plain": [
       "<matplotlib.figure.Figure at 0x10f67cb10>"
      ]
     },
     "metadata": {},
     "output_type": "display_data"
    }
   ],
   "source": [
    "# Visualising the data\n",
    "\n",
    "import pandas as pd\n",
    "import seaborn as sns\n",
    "import matplotlib.pyplot as plt\n",
    "\n",
    "df = pd.DataFrame()\n",
    "df['x'] = x\n",
    "df['y'] = y\n",
    "lm = sns.lmplot('x', 'y', data=df,\n",
    "                scatter_kws={\"s\": 20, \"alpha\": 0.6}, line_kws={\"alpha\": 0.5}, fit_reg=False)\n",
    "plt.show()"
   ]
  },
  {
   "cell_type": "markdown",
   "metadata": {},
   "source": [
    "## 2. Features extraction\n",
    "\n",
    "In this case we will simply use x as a feature so there is no need to do any additional work in this case. You could try using different features, like using both x and x<sup>2</sup> and see how this changes the results."
   ]
  },
  {
   "cell_type": "markdown",
   "metadata": {},
   "source": [
    "## 3. Hyper-parameters\n",
    "\n",
    "Once the data is ready to be used, one can start training the neural network. However, in addition to the weights and biases in the network, there are other variables that make a difference to the quality of the model. These are the network structure (the number of hidden layers and the number of neurons in each layer), the learning rate, the regularisation parameter... These are referred to as 'hyper-parameters' and they also need to be optimised. \n",
    "\n",
    "This can be done in a variety of ways, like by manually adjusting them (extremely tedious and inefficient) or with grid search, random search and Gaussian processes. Here we will use grid search, even though for real applications it is not recommended."
   ]
  },
  {
   "cell_type": "code",
   "execution_count": 3,
   "metadata": {
    "collapsed": true
   },
   "outputs": [],
   "source": [
    "from sklearn.model_selection import train_test_split\n",
    "\n",
    "# Splitting the data set into training and test set\n",
    "x_col = np.reshape(x, (len(x),1))\n",
    "x_train, x_test, y_train, y_test = train_test_split(x_col, y, test_size=0.2, random_state=0)"
   ]
  },
  {
   "cell_type": "code",
   "execution_count": 4,
   "metadata": {
    "collapsed": true
   },
   "outputs": [],
   "source": [
    "from sklearn import neural_network\n",
    "\n",
    "# Creating the neural network\n",
    "nn_regression = neural_network.MLPRegressor(tol=0.00001, max_iter=20000)"
   ]
  },
  {
   "cell_type": "markdown",
   "metadata": {},
   "source": [
    "In Scikit learn, in order to do a grid search, one has to create a 'pipeline'. This is a collection of all the operations required to go from raw data to having a fitted model. In our simple example, the only step needed in the pipeline is the neural network regression, as no preprocessing of the data was needed.\n",
    "\n",
    "The hyper-parameters that we will optimise here are the learning rate and the structure of the neural network. In scikit learn, the notation `(4, 3, 2)` means that the neural network has 3 hidden layers, the first one has 4 neurons, the second has 3 and the third has 2. "
   ]
  },
  {
   "cell_type": "code",
   "execution_count": 5,
   "metadata": {
    "collapsed": false
   },
   "outputs": [],
   "source": [
    "from sklearn.pipeline import Pipeline\n",
    "\n",
    "# Creating the pipeline\n",
    "pipe = Pipeline(steps=[(\"NN\", nn_regression)])\n",
    "pipe.set_params(NN__activation=\"tanh\")\n",
    "param = {\n",
    "         \"NN__learning_rate_init\":[0.001, 0.01, 0.1], \n",
    "         \"NN__hidden_layer_sizes\": [(4,3,2), (6, 5, 3)]\n",
    "        }"
   ]
  },
  {
   "cell_type": "code",
   "execution_count": 6,
   "metadata": {
    "collapsed": false
   },
   "outputs": [
    {
     "name": "stdout",
     "output_type": "stream",
     "text": [
      "{'NN__hidden_layer_sizes': (6, 5, 3), 'NN__learning_rate_init': 0.001}\n",
      "0.999225421229\n"
     ]
    }
   ],
   "source": [
    "from sklearn.model_selection import GridSearchCV\n",
    "\n",
    "# Doing the grid search\n",
    "grid_search = GridSearchCV(pipe, param_grid=param)\n",
    "\n",
    "grid_search.fit(x_train, y_train)\n",
    "print(grid_search.best_params_)\n",
    "print(grid_search.best_score_)"
   ]
  },
  {
   "cell_type": "markdown",
   "metadata": {},
   "source": [
    "## 4. Fitting the model on the training data\n",
    "\n",
    "The output from the above cell tells us what hyper-parameters give the highest scoring model. So, we keep these hyper-parameters and train a neural network with them. This will then be used for predictions."
   ]
  },
  {
   "cell_type": "code",
   "execution_count": 7,
   "metadata": {
    "collapsed": false
   },
   "outputs": [
    {
     "data": {
      "text/plain": [
       "Pipeline(steps=[('NN', MLPRegressor(activation='tanh', alpha=0.0001, batch_size='auto', beta_1=0.9,\n",
       "       beta_2=0.999, early_stopping=False, epsilon=1e-08,\n",
       "       hidden_layer_sizes=(6, 5, 3), learning_rate='constant',\n",
       "       learning_rate_init=0.001, max_iter=20000, momentum=0.9,\n",
       "       nesterovs_momentum=True, power_t=0.5, random_state=None,\n",
       "       shuffle=True, solver='adam', tol=1e-05, validation_fraction=0.1,\n",
       "       verbose=False, warm_start=False))])"
      ]
     },
     "execution_count": 7,
     "metadata": {},
     "output_type": "execute_result"
    }
   ],
   "source": [
    "# Fitting the pipe using the best hyper-parameters\n",
    "pipe.set_params(\n",
    "    NN__learning_rate_init=grid_search.best_params_[\"NN__learning_rate_init\"], \n",
    "    NN__hidden_layer_sizes=grid_search.best_params_[\"NN__hidden_layer_sizes\"]\n",
    ")\n",
    "\n",
    "pipe.fit(x_train, y_train)"
   ]
  },
  {
   "cell_type": "markdown",
   "metadata": {},
   "source": [
    "## 5. Evaluating model on test data\n",
    "\n",
    "Now we can see how how good is our fit by testing the model on data it hasn't seen yet. "
   ]
  },
  {
   "cell_type": "code",
   "execution_count": 8,
   "metadata": {
    "collapsed": true
   },
   "outputs": [],
   "source": [
    "# Calculating predictions\n",
    "y_predict = pipe.predict(x_test)"
   ]
  },
  {
   "cell_type": "code",
   "execution_count": 9,
   "metadata": {
    "collapsed": false
   },
   "outputs": [
    {
     "name": "stdout",
     "output_type": "stream",
     "text": [
      "(400, 1)\n"
     ]
    },
    {
     "data": {
      "image/png": "[encoded data removed]",
      "text/plain": [
       "<matplotlib.figure.Figure at 0x113135fd0>"
      ]
     },
     "metadata": {},
     "output_type": "display_data"
    }
   ],
   "source": [
    "# Visualising the results\n",
    "print x_test.shape\n",
    "df = pd.DataFrame()\n",
    "df['x'] = np.reshape(x_test, (len(x_test),))\n",
    "df['y'] = y_predict\n",
    "lm = sns.lmplot('x', 'y', data=df,\n",
    "                scatter_kws={\"s\": 20, \"alpha\": 0.6}, line_kws={\"alpha\": 0.5}, fit_reg=False)\n",
    "plt.show()"
   ]
  },
  {
   "cell_type": "code",
   "execution_count": null,
   "metadata": {
    "collapsed": true
   },
   "outputs": [],
   "source": []
  }
 ],
 "metadata": {
  "anaconda-cloud": {},
  "kernelspec": {
   "display_name": "Python [default]",
   "language": "python",
   "name": "python2"
  },
  "language_info": {
   "codemirror_mode": {
    "name": "ipython",
    "version": 2
   },
   "file_extension": ".py",
   "mimetype": "text/x-python",
   "name": "python",
   "nbconvert_exporter": "python",
   "pygments_lexer": "ipython2",
   "version": "2.7.12"
  }
 },
 "nbformat": 4,
 "nbformat_minor": 1
}
