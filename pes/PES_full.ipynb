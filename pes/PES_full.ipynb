{
 "cells": [
  {
   "cell_type": "markdown",
   "metadata": {},
   "source": [
    "# Fitting potential energy surfaces using neural networks\n",
    "\n",
    "In this notebook we will go through the workflow of fitting a potential energy surface with a neural network. \n",
    "\n",
    "## The data pipeline\n",
    "\n",
    "As you saw this morning in the digit classification example, the \"pipeline\" refers to the set of steps that need to be carried out to go from raw data to a fitted model.\n",
    "\n",
    "### 1. The raw data\n",
    "\n",
    "In this exercise, the raw data consists of a small data set where each sample is a different configuration of a methane and cyanide radical. For each configuration there is an energy that has been calculated at the couple cluster level of theory (highly accurate).\n",
    "\n",
    "Therefore, the first step is to import the data from the two files `X.csv` and `Y.csv` file. The first one contains the configurations of the molecule and the second one the energies."
   ]
  },
  {
   "cell_type": "code",
   "execution_count": 1,
   "metadata": {
    "collapsed": true
   },
   "outputs": [],
   "source": [
    "import sys\n",
    "sys.path.append('.')\n",
    "import pre_processing as pp\n",
    "import numpy as np"
   ]
  },
  {
   "cell_type": "code",
   "execution_count": 2,
   "metadata": {
    "collapsed": false
   },
   "outputs": [],
   "source": [
    "# X = pp.loadX('X.csv')\n",
    "# y = pp.loadY('Y.csv')\n",
    "X, y = pp.loadData('/Users/walfits/Repositories/trainingNN/dataSets/PBE_B3LYP/pbe_b3lyp_partQ_rel.csv')"
   ]
  },
  {
   "cell_type": "markdown",
   "metadata": {},
   "source": [
    "### 2. Pre-processing\n",
    "\n",
    "The raw data has to be transformed from Cartesian coordinates to a molecular descriptor. This has to be suitable as a neural network input. Cartesian coordinates are not suitable because they are not *rotationally and translationally invariant*. Translational invariance simply means that if you shift a molecule around in space then the coordinates change. Similarly, if you rotate a whole molecule around, its Cartesian coordinates will change.\n",
    "\n",
    "There are a variety of descriptors to choose from. Many of them are explained [here](http://aip.scitation.org/doi/full/10.1063/1.4966192). In this workshop, we will use the unsorted/unrandomised Coulomb matrix. The way the Coulomb matrix is constructed is explained [here](http://pubs.acs.org/doi/abs/10.1021/ct400195d). \n",
    "\n",
    "This version of the Coulomb matrix is not what you would use for a serious application of neural networks, because it does not satisfy permutational invariance. However, it is good enough for the purpose of this tutorial. "
   ]
  },
  {
   "cell_type": "code",
   "execution_count": 3,
   "metadata": {
    "collapsed": false
   },
   "outputs": [
    {
     "name": "stdout",
     "output_type": "stream",
     "text": [
      "X_cm has shape (17751, 28).\n",
      "y has shape (17751,).\n"
     ]
    }
   ],
   "source": [
    "descriptor = pp.CoulombMatrix(matrixX=X)\n",
    "X_cm = descriptor.generateTriangCM()\n",
    "\n",
    "print('X_cm has shape {}.'.format(str(X_cm.shape)))\n",
    "print('y has shape {}.'.format(str(y.shape)))"
   ]
  },
  {
   "cell_type": "markdown",
   "metadata": {},
   "source": [
    "Each line of `X_cm` is a 'sample', i.e. a configuration of the system under study. There are in total 31 one configurations. The system has 7 atoms and the Coulomb matrix is a diagonal matrix of shape 7 by 7. But since it is diagonal, only the upper triangular part is needed. Hence the shape `(31, 28)`."
   ]
  },
  {
   "cell_type": "markdown",
   "metadata": {},
   "source": [
    "#### Scaling\n",
    "Usually, after having extracted the features from the data, one can standardise them, so that every feature has a  standard deviation of 1 and mean of 0. This can be useful, because it means that the weights of the neural network can be in a similar range.\n",
    "\n",
    "However, if the ratio of the features contains information, then scaling looses it. The diagonal elements of the Coulomb  matrix are always the same because they show the chemical identity of an atom. If this feature was scaled, all atoms would have a zero where their nuclear charge would have been, and therefore the chemical identity information would be lost.\n",
    "\n",
    "Consequently, no scaling is done on the Coulomb matrix."
   ]
  },
  {
   "cell_type": "markdown",
   "metadata": {},
   "source": [
    "### 3. Hyper-parameters\n",
    "\n",
    "In the neural network, there are many parameters that have to be chosen in order to obtain optimal performance. For example, there is the structure of the network (how many hidden layers, how many neurons in each layer), the regularisation parameter, the learning rate and the batch size in the mini-batch gradient descent... These are called 'hyper-parameters'. \n",
    "\n",
    "The hyper-parameter have to be optimised. This is usually done by trying different combinations of them and scoring the model. The hyper-parameters that give the best model are then kept. There are various techniques to do this, like manually choosing the different combinations of hyper parameters (highly tedious and inefficient), grid search, random search, Gaussian processes...\n",
    "\n",
    "For the purpose of this tutorial, we will just do a grid search."
   ]
  },
  {
   "cell_type": "code",
   "execution_count": 4,
   "metadata": {
    "collapsed": false
   },
   "outputs": [],
   "source": [
    "from sklearn import neural_network as nn\n",
    "from sklearn import model_selection as modsel\n",
    "from sklearn.pipeline import Pipeline\n",
    "\n",
    "\n",
    "# Defining the model\n",
    "neural_net = nn.MLPRegressor(max_iter=100000)\n",
    "\n",
    "# Hyper-parameters to be optimised\n",
    "hyper_param = {}\n",
    "\n",
    "# Define the hidden_layer_sizes\n",
    "HLS =[(40,20,10), (50, 30, 15), (60, 40, 20)]\n",
    "hyper_param.update({'neural_net__hidden_layer_sizes':HLS})\n",
    "\n",
    "# Define range of learning_init_rate\n",
    "LRI = [0.001, 0.005, 0.01]\n",
    "hyper_param.update({'neural_net__learning_rate_init':LRI})\n",
    "\n",
    "# Alpha, the regularisation parameter\n",
    "ALPHA = np.logspace(-3,-1,3)\n",
    "hyper_param.update({'neural_net__alpha':ALPHA})"
   ]
  },
  {
   "cell_type": "markdown",
   "metadata": {},
   "source": [
    "In the code above, we are choosing a regression neural network, with a [tanh](https://theclevermachine.wordpress.com/tag/tanh-function/) activation function in the hidden neurons. Then, a dictionary is created with a range of values for each hyper-parameter to be optimised. We are optimising the structure of the network, the learning rate and the regularisation parameter.\n",
    "\n",
    "In the code below, a 'scikit learn pipeline' is constructed. However, in our simple exercise this pipeline contains only one step. The pipeline is optimised by trying all the combinations of the different hyper-parameters. K-fold cross-validation is used, which means that the network is trained on a subset of the data (here 2/3 of the data) and then tested on the remaining data (here 1/3 of the data). This process is repeated multiple times (here 3 times) and the part of the data used for training/testing is varied. The score is then the average of the 3 individual scores. "
   ]
  },
  {
   "cell_type": "code",
   "execution_count": 5,
   "metadata": {
    "collapsed": false
   },
   "outputs": [
    {
     "name": "stdout",
     "output_type": "stream",
     "text": [
      "Best accuracy: 0.45\n",
      "Best params: \n",
      "{'neural_net__alpha': 0.10000000000000001, 'neural_net__learning_rate_init': 0.005, 'neural_net__hidden_layer_sizes': (40, 20, 10)}\n"
     ]
    }
   ],
   "source": [
    "# Doing k-fold cross-validation to choose hyper parameters\n",
    "# cv_iter = modsel.KFold(n_splits=3)\n",
    "\n",
    "from sklearn.model_selection import train_test_split\n",
    "\n",
    "x_train, x_test, y_train, y_test = train_test_split(X_cm, y, test_size=0.2, random_state=0)\n",
    "\n",
    "# Generating the pipeline\n",
    "pipe = Pipeline([('neural_net', neural_net)])\n",
    "\n",
    "# Doing the gridsearch - i.e. trying all the combinations of parameters\n",
    "grid_search = modsel.GridSearchCV(estimator=pipe, param_grid=hyper_param)\n",
    "grid_search.fit(x_train, y_train)\n",
    "\n",
    "print('Best accuracy: {:4.2f}'.format(grid_search.best_score_))\n",
    "print('Best params: \\n{}'.format(grid_search.best_params_))"
   ]
  },
  {
   "cell_type": "markdown",
   "metadata": {},
   "source": [
    "The score is the r<sup>2</sup>. The closest to 1, the better. Once a satisfactory set of parameters have been found, we can update the model with them."
   ]
  },
  {
   "cell_type": "code",
   "execution_count": 6,
   "metadata": {
    "collapsed": false
   },
   "outputs": [
    {
     "data": {
      "text/plain": [
       "Pipeline(steps=[('neural_net', MLPRegressor(activation='relu', alpha=0.10000000000000001, batch_size='auto',\n",
       "       beta_1=0.9, beta_2=0.999, early_stopping=False, epsilon=1e-08,\n",
       "       hidden_layer_sizes=(40, 20, 10), learning_rate='constant',\n",
       "       learning_rate_init=0.005, max_iter=100000, momentum=0.9,\n",
       "       nesterovs_momentum=True, power_t=0.5, random_state=None,\n",
       "       shuffle=True, solver='adam', tol=0.0001, validation_fraction=0.1,\n",
       "       verbose=False, warm_start=False))])"
      ]
     },
     "execution_count": 6,
     "metadata": {},
     "output_type": "execute_result"
    }
   ],
   "source": [
    "# Setting the best parameters\n",
    "best_params = {}\n",
    "best_params.update({'neural_net__hidden_layer_sizes':grid_search.best_params_['neural_net__hidden_layer_sizes']})\n",
    "\n",
    "# Best initial learning rate\n",
    "best_params.update({'neural_net__learning_rate_init': grid_search.best_params_['neural_net__learning_rate_init']})\n",
    "\n",
    "# Best batch_size\n",
    "best_params.update({'neural_net__alpha': grid_search.best_params_['neural_net__alpha']})\n",
    "\n",
    "# Set best parameters\n",
    "pipe.set_params(**best_params)\n",
    "\n",
    "# Refit model with best hyper-parameters, ready for prediction\n",
    "pipe.fit(x_train, y_train)"
   ]
  },
  {
   "cell_type": "code",
   "execution_count": 7,
   "metadata": {
    "collapsed": false
   },
   "outputs": [],
   "source": [
    "# Predictions\n",
    "y_pred = pipe.predict(x_test)"
   ]
  },
  {
   "cell_type": "code",
   "execution_count": 8,
   "metadata": {
    "collapsed": false
   },
   "outputs": [
    {
     "data": {
      "image/png": "[encoded data removed]",
      "text/plain": [
       "<matplotlib.figure.Figure at 0x1195f5190>"
      ]
     },
     "metadata": {},
     "output_type": "display_data"
    }
   ],
   "source": [
    "# Correlation plot\n",
    "import pandas as pd\n",
    "import seaborn as sns\n",
    "import matplotlib.pyplot as plt\n",
    "\n",
    "df = pd.DataFrame()\n",
    "df['High level calculated energies (Ha)'] = y_test\n",
    "df['NN predicted energies (Ha)'] = y_pred\n",
    "lm = sns.lmplot('High level calculated energies (Ha)', 'NN predicted energies (Ha)', data=df,\n",
    "                scatter_kws={\"s\": 20, \"alpha\": 0.6}, line_kws={\"alpha\": 0.5})\n",
    "lm.set(ylim=[-0.07,0.04])\n",
    "lm.set(xlim=[-0.07,0.04])\n",
    "\n",
    "plt.show()"
   ]
  },
  {
   "cell_type": "code",
   "execution_count": null,
   "metadata": {
    "collapsed": true
   },
   "outputs": [],
   "source": []
  },
  {
   "cell_type": "code",
   "execution_count": null,
   "metadata": {
    "collapsed": true
   },
   "outputs": [],
   "source": []
  }
 ],
 "metadata": {
  "anaconda-cloud": {},
  "kernelspec": {
   "display_name": "Python [default]",
   "language": "python",
   "name": "python2"
  },
  "language_info": {
   "codemirror_mode": {
    "name": "ipython",
    "version": 2
   },
   "file_extension": ".py",
   "mimetype": "text/x-python",
   "name": "python",
   "nbconvert_exporter": "python",
   "pygments_lexer": "ipython2",
   "version": "2.7.12"
  }
 },
 "nbformat": 4,
 "nbformat_minor": 1
}
